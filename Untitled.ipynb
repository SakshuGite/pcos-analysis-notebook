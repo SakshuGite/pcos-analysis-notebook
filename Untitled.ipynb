{
 "cells": [
  {
   "cell_type": "code",
   "execution_count": 1,
   "id": "bcd5ddd5-f676-40ff-8429-dd4a60348f06",
   "metadata": {},
   "outputs": [
    {
     "name": "stdout",
     "output_type": "stream",
     "text": [
      "✅ Data cleaned successfully!\n",
      "\n",
      "<class 'pandas.core.frame.DataFrame'>\n",
      "RangeIndex: 541 entries, 0 to 540\n",
      "Data columns (total 42 columns):\n",
      " #   Column               Non-Null Count  Dtype  \n",
      "---  ------               --------------  -----  \n",
      " 0   PCOS_YN              541 non-null    int64  \n",
      " 1   Age_yrs              541 non-null    int64  \n",
      " 2   Weight_Kg            541 non-null    float64\n",
      " 3   HeightCm             541 non-null    float64\n",
      " 4   BMI                  541 non-null    float64\n",
      " 5   Blood_Group          541 non-null    int64  \n",
      " 6   Pulse_ratebpm        541 non-null    int64  \n",
      " 7   RR_breathsmin        541 non-null    int64  \n",
      " 8   Hbgdl                541 non-null    float64\n",
      " 9   CycleRI              541 non-null    int64  \n",
      " 10  Cycle_lengthdays     541 non-null    int64  \n",
      " 11  Marraige_Status_Yrs  541 non-null    float64\n",
      " 12  PregnantYN           541 non-null    int64  \n",
      " 13  No_of_abortions      541 non-null    int64  \n",
      " 14  I___betaHCGmIUmL     541 non-null    float64\n",
      " 15  II____betaHCGmIUmL   540 non-null    float64\n",
      " 16  FSHmIUmL             541 non-null    float64\n",
      " 17  LHmIUmL              541 non-null    float64\n",
      " 18  FSHLH                541 non-null    float64\n",
      " 19  Hipinch              541 non-null    int64  \n",
      " 20  Waistinch            541 non-null    int64  \n",
      " 21  WaistHip_Ratio       541 non-null    float64\n",
      " 22  TSH_mIUL             541 non-null    float64\n",
      " 23  AMHngmL              540 non-null    float64\n",
      " 24  PRLngmL              541 non-null    float64\n",
      " 25  Vit_D3_ngmL          541 non-null    float64\n",
      " 26  PRGngmL              541 non-null    float64\n",
      " 27  RBSmgdl              541 non-null    float64\n",
      " 28  Weight_gainYN        541 non-null    int64  \n",
      " 29  hair_growthYN        541 non-null    int64  \n",
      " 30  Skin_darkening_YN    541 non-null    int64  \n",
      " 31  Hair_lossYN          541 non-null    int64  \n",
      " 32  PimplesYN            541 non-null    int64  \n",
      " 33  Fast_food_YN         541 non-null    float64\n",
      " 34  RegExerciseYN        541 non-null    int64  \n",
      " 35  BP__Systolic_mmHg    541 non-null    int64  \n",
      " 36  BP__Diastolic_mmHg   541 non-null    int64  \n",
      " 37  Follicle_No_L        541 non-null    int64  \n",
      " 38  Follicle_No_R        541 non-null    int64  \n",
      " 39  Avg_F_size_L_mm      541 non-null    float64\n",
      " 40  Avg_F_size_R_mm      541 non-null    float64\n",
      " 41  Endometrium_mm       541 non-null    float64\n",
      "dtypes: float64(21), int64(21)\n",
      "memory usage: 177.6 KB\n",
      "None\n",
      "   PCOS_YN  Age_yrs  Weight_Kg  HeightCm   BMI  Blood_Group  Pulse_ratebpm  \\\n",
      "0        0       28       44.6     152.0  19.3           15             78   \n",
      "1        0       36       65.0     161.5  24.9           15             74   \n",
      "2        1       33       68.8     165.0  25.3           11             72   \n",
      "3        0       37       65.0     148.0  29.7           13             72   \n",
      "4        0       25       52.0     161.0  20.1           11             72   \n",
      "\n",
      "   RR_breathsmin  Hbgdl  CycleRI  ...  PimplesYN  Fast_food_YN  RegExerciseYN  \\\n",
      "0             22  10.48        2  ...          0           1.0              0   \n",
      "1             20  11.70        2  ...          0           0.0              0   \n",
      "2             18  11.80        2  ...          1           1.0              0   \n",
      "3             20  12.00        2  ...          0           0.0              0   \n",
      "4             18  10.00        2  ...          0           0.0              0   \n",
      "\n",
      "   BP__Systolic_mmHg  BP__Diastolic_mmHg  Follicle_No_L  Follicle_No_R  \\\n",
      "0                110                  80              3              3   \n",
      "1                120                  70              3              5   \n",
      "2                120                  80             13             15   \n",
      "3                120                  70              2              2   \n",
      "4                120                  80              3              4   \n",
      "\n",
      "   Avg_F_size_L_mm  Avg_F_size_R_mm  Endometrium_mm  \n",
      "0             18.0             18.0             8.5  \n",
      "1             15.0             14.0             3.7  \n",
      "2             18.0             20.0            10.0  \n",
      "3             15.0             14.0             7.5  \n",
      "4             16.0             14.0             7.0  \n",
      "\n",
      "[5 rows x 42 columns]\n"
     ]
    }
   ],
   "source": [
    "\n",
    "import pandas as pd\n",
    "import numpy as np\n",
    "\n",
    "\n",
    "df = pd.read_csv(\"PCOS_data.csv\")  # Make sure the CSV is in the same directory as the notebook\n",
    "\n",
    "df.columns = df.columns.str.strip().str.replace(' ', '_').str.replace(r'[^\\w]', '', regex=True)\n",
    "\n",
    "\n",
    "df['II____betaHCGmIUmL'] = pd.to_numeric(df['II____betaHCGmIUmL'], errors='coerce')\n",
    "df['AMHngmL'] = pd.to_numeric(df['AMHngmL'], errors='coerce')\n",
    "\n",
    "df['Marraige_Status_Yrs'] = df['Marraige_Status_Yrs'].fillna(df['Marraige_Status_Yrs'].median())\n",
    "df['Fast_food_YN'] = df['Fast_food_YN'].fillna(df['Fast_food_YN'].median())\n",
    "\n",
    "df.drop(columns=['Sl_No', 'Patient_File_No'], inplace=True)\n",
    "\n",
    "\n",
    "print(\"Data cleaned successfully!\\n\")\n",
    "print(df.info())\n",
    "print(df.head())\n"
   ]
  },
  {
   "cell_type": "code",
   "execution_count": 2,
   "id": "742adb71-47b6-4cb4-8833-3590f826807b",
   "metadata": {},
   "outputs": [],
   "source": [
    "from sklearn.model_selection import train_test_split\n",
    "\n",
    "\n",
    "X = df.drop('PCOS_YN', axis=1)\n",
    "y = df['PCOS_YN']\n",
    "\n",
    "\n",
    "X_train, X_test, y_train, y_test = train_test_split(X, y, test_size=0.2, random_state=42)\n"
   ]
  },
  {
   "cell_type": "code",
   "execution_count": 3,
   "id": "af2588a9-95af-4659-91e2-4eeb6c1ddaeb",
   "metadata": {},
   "outputs": [
    {
     "name": "stdout",
     "output_type": "stream",
     "text": [
      "Training Accuracy: 1.0\n",
      "Test Accuracy: 0.8715596330275229\n"
     ]
    }
   ],
   "source": [
    "from sklearn.ensemble import RandomForestClassifier\n",
    "\n",
    "rf = RandomForestClassifier(n_estimators=100, random_state=42)\n",
    "rf.fit(X_train, y_train)\n",
    "\n",
    "print(\"Training Accuracy:\", rf.score(X_train, y_train))\n",
    "print(\"Test Accuracy:\", rf.score(X_test, y_test))\n"
   ]
  },
  {
   "cell_type": "code",
   "execution_count": 4,
   "id": "a9619b12-f86f-4365-8b91-2d17dcfa5758",
   "metadata": {},
   "outputs": [
    {
     "name": "stdout",
     "output_type": "stream",
     "text": [
      "Sample 1: 48.00% risk of PCOS\n",
      "Sample 2: 18.00% risk of PCOS\n",
      "Sample 3: 20.00% risk of PCOS\n",
      "Sample 4: 29.00% risk of PCOS\n",
      "Sample 5: 69.00% risk of PCOS\n"
     ]
    }
   ],
   "source": [
    "\n",
    "y_proba = rf.predict_proba(X_test)[:, 1]  \n",
    "\n",
    "for i, prob in enumerate(y_proba[:5]):\n",
    "    print(f\"Sample {i+1}: {prob:.2%} risk of PCOS\")\n"
   ]
  },
  {
   "cell_type": "code",
   "execution_count": 5,
   "id": "37308140-6940-4e0e-ab85-0382c0066cfd",
   "metadata": {},
   "outputs": [
    {
     "data": {
      "text/plain": [
       "['pcos_features.pkl']"
      ]
     },
     "execution_count": 5,
     "metadata": {},
     "output_type": "execute_result"
    }
   ],
   "source": [
    "import joblib\n",
    "joblib.dump(rf, 'pcos_rf_model.pkl')\n",
    "joblib.dump(X.columns.tolist(), 'pcos_features.pkl')"
   ]
  }
 ],
 "metadata": {
  "kernelspec": {
   "display_name": "Python 3 (ipykernel)",
   "language": "python",
   "name": "python3"
  },
  "language_info": {
   "codemirror_mode": {
    "name": "ipython",
    "version": 3
   },
   "file_extension": ".py",
   "mimetype": "text/x-python",
   "name": "python",
   "nbconvert_exporter": "python",
   "pygments_lexer": "ipython3",
   "version": "3.11.5"
  }
 },
 "nbformat": 4,
 "nbformat_minor": 5
}
